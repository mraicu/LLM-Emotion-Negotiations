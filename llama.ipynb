{
 "cells": [
  {
   "cell_type": "code",
   "execution_count": 1,
   "metadata": {},
   "outputs": [],
   "source": [
    "import ollama"
   ]
  },
  {
   "cell_type": "code",
   "execution_count": 2,
   "metadata": {},
   "outputs": [],
   "source": [
    "prompt = f\"Write some lorem ipsum text\""
   ]
  },
  {
   "cell_type": "code",
   "execution_count": 3,
   "metadata": {},
   "outputs": [
    {
     "name": "stdout",
     "output_type": "stream",
     "text": [
      "Here is some Lorem Ipsum text:\n",
      "\n",
      "Lorem ipsum dolor sit amet, consectetur adipiscing elit. Nulla malesuada lacus ut augue scelerisque, eget blandit magna sodales. Sed sed ligula quis eros facilisis faucibus. \n",
      "\n",
      "Aliquam erat volutpat. Donec nec libero et diam interdum mollis. Ut viverra, ex at luctus vulputate, justo sem bibendum turpis, in convallis dui metus a augue.\n",
      "\n",
      "Praesent sed lectus vel nunc tempor sodales eget in augue. Vivamus ultricies, eros sit amet dignissim pulvinar, ante mi dictum risus, et tincidunt elit sapien id nulla. Nunc venenatis sem id lacus vulputate, quis faucibus ex luctus.\n",
      "\n",
      "Ut vel justo nec est tempus faucibus ac in neque. \n",
      "\n",
      "Let me know if you need more!\n"
     ]
    }
   ],
   "source": [
    "model = \"llama3.1:8b\"\n",
    "model2 = \"llama3\"\n",
    "\n",
    "resp = ollama.chat(model=model, messages=[\n",
    "    {\n",
    "\t'role': 'user',\n",
    "\t'content': f'{prompt}'\t\n",
    "\t}\n",
    "])\n",
    "\n",
    "print(resp['message']['content'])"
   ]
  },
  {
   "cell_type": "code",
   "execution_count": 4,
   "metadata": {},
   "outputs": [
    {
     "name": "stdout",
     "output_type": "stream",
     "text": [
      "Here is some Lorem Ipsum text:\n",
      "\n",
      "Lorem ipsum dolor sit amet, consectetur adipiscing elit. Integer nec odio euismod in piscina urna id nulla. Aliquam sit amet massa etiam faucibus sed ante.\n",
      "\n",
      "Cum sociis natoque penatibus et magnis dis parturageuntur. Quisque ut libero, but not too much. Curabitur gravida arcu pretium sapien blandit dignissim accumsan. Donec in ligula et purus, dictum ultrices sagittis.\n",
      "\n",
      "Lorem ipsum dolor sit amet, consectetur adipiscing elit. Sed do eiusmod tempor incididunt ut labore et dolore magna aliqua. Ut enim ad minim veniam, quis nostrud exercitation ullamco laboris nisi ut aliquip ex ea commodo consequat. Duis aute irure dolor in reprehenderit in voluptate velit esse cillum dolore eu fugiat nulla pariatur.\n",
      "\n",
      "Nulla facilisi. Cras justo odio dapeetus. Praesent commodo cursus magna etiam curabitur convallis. Nullam id risus non sapien vestibulum ultrices auctor.\n",
      "\n",
      "Etiam sit amet orci eget lectus sit amet justo! Curabitur gravida arcu pretium sapien blandit dignissim accumsan. Donec in ligula et purus, dictum ultrices sagittis. Cras justo odio dapeetus. Praesent commodo cursus magna etiam curabitur convallis.\n",
      "\n",
      "This Lorem Ipsum text is just a placeholder, used to demonstrate the look and feel of different typesetting styles without being distracted by actual content.\n"
     ]
    }
   ],
   "source": [
    "resp2 = ollama.chat(model=model2, messages=[\n",
    "    {\n",
    "\t'role': 'user',\n",
    "\t'content': f'{prompt}'\t\n",
    "\t}\n",
    "])\n",
    "\n",
    "print(resp2['message']['content'])"
   ]
  }
 ],
 "metadata": {
  "kernelspec": {
   "display_name": "tfgpu",
   "language": "python",
   "name": "python3"
  },
  "language_info": {
   "codemirror_mode": {
    "name": "ipython",
    "version": 3
   },
   "file_extension": ".py",
   "mimetype": "text/x-python",
   "name": "python",
   "nbconvert_exporter": "python",
   "pygments_lexer": "ipython3",
   "version": "3.8.20"
  }
 },
 "nbformat": 4,
 "nbformat_minor": 2
}
