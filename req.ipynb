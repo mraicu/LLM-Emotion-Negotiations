{
 "cells": [
  {
   "cell_type": "code",
   "execution_count": null,
   "metadata": {},
   "outputs": [
    {
     "name": "stdout",
     "output_type": "stream",
     "text": [
      "Error: 500, {\"error\": \"Model too busy, unable to get response in less than 60 second(s)\"}\n"
     ]
    }
   ],
   "source": [
    "import requests\n",
    "\n",
    "API_TOKEN = \"\"\n",
    "\n",
    "api_url = \"https://api-inference.huggingface.co/models/meta-llama/Llama-3.2-3B\"\n",
    "headers = {\"Authorization\": f\"Bearer {API_TOKEN}\"}\n",
    "\n",
    "data = {\"inputs\": \"Generate some lorem ipsum text\"}\n",
    "\n",
    "response = requests.post(api_url, headers=headers, json=data)\n",
    "\n",
    "if response.status_code == 200:\n",
    "    print(response.json())\n",
    "else:\n",
    "    print(f\"Error: {response.status_code}, {response.text}\")\n"
   ]
  }
 ],
 "metadata": {
  "kernelspec": {
   "display_name": "tfgpu",
   "language": "python",
   "name": "python3"
  },
  "language_info": {
   "codemirror_mode": {
    "name": "ipython",
    "version": 3
   },
   "file_extension": ".py",
   "mimetype": "text/x-python",
   "name": "python",
   "nbconvert_exporter": "python",
   "pygments_lexer": "ipython3",
   "version": "3.8.20"
  }
 },
 "nbformat": 4,
 "nbformat_minor": 2
}
