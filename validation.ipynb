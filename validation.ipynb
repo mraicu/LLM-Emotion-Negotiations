{
 "nbformat": 4,
 "nbformat_minor": 0,
 "metadata": {
  "colab": {
   "provenance": [],
   "authorship_tag": "ABX9TyNtM8NKST3jOE8GWY3ywiPP"
  },
  "kernelspec": {
   "name": "python3",
   "display_name": "Python 3"
  },
  "language_info": {
   "name": "python"
  }
 },
 "cells": [
  {
   "cell_type": "code",
   "source": [
    "import pandas as pd\n",
    "from sklearn.metrics import accuracy_score, precision_score, recall_score, f1_score"
   ],
   "metadata": {
    "id": "jj3wKPVxS4mg",
    "executionInfo": {
     "status": "ok",
     "timestamp": 1737013626349,
     "user_tz": -120,
     "elapsed": 9902,
     "user": {
      "displayName": "Maria Raicu",
      "userId": "00664458830913320871"
     }
    }
   },
   "execution_count": 1,
   "outputs": []
  },
  {
   "cell_type": "code",
   "source": [
    "def calculate_metrics(ground_truth_data_df, output_data_df):\n",
    "    \"\"\"\n",
    "    Calculate accuracy, precision, and recall for the given datasets.\n",
    "    \"\"\"\n",
    "    true_labels = ground_truth_data_df['label']\n",
    "    predicted_labels = output_data_df['Emotion']\n",
    "\n",
    "    accuracy = accuracy_score(true_labels, predicted_labels)\n",
    "    precision = precision_score(true_labels, predicted_labels, average='weighted')\n",
    "    recall = recall_score(true_labels, predicted_labels, average='weighted')\n",
    "    f1 = f1_score(true_labels, predicted_labels, zero_division=0, average='weighted')\n",
    "\n",
    "    results = {\n",
    "        \"Accuracy\": round(accuracy, 2),\n",
    "        \"Precision\": round(precision, 2),\n",
    "        \"Recall\": round(recall, 2),\n",
    "\n",
    "    }\n",
    "    return results"
   ],
   "metadata": {
    "id": "wZKYMY2iYhMw",
    "executionInfo": {
     "status": "ok",
     "timestamp": 1737013627153,
     "user_tz": -120,
     "elapsed": 6,
     "user": {
      "displayName": "Maria Raicu",
      "userId": "00664458830913320871"
     }
    }
   },
   "execution_count": 2,
   "outputs": []
  },
  {
   "cell_type": "code",
   "source": [
    "def calculate_classwise_metrics(ground_truth_data_df, output_data_df):\n",
    "    \"\"\"\n",
    "    Calculate accuracy, precision, recall and f1 for each class in the given datasets.\n",
    "    \"\"\"\n",
    "    true_labels = ground_truth_data_df['label'].astype(str)\n",
    "    predicted_labels = output_data_df['Emotion'].astype(str)\n",
    "\n",
    "    classes = ['Joy', 'Sadness', 'Anger', 'Fear', 'Surprise']\n",
    "\n",
    "    metrics_by_class = {}\n",
    "\n",
    "    for cls in classes:\n",
    "        true_binary = (true_labels == cls).astype(int)\n",
    "        predicted_binary = (predicted_labels == cls).astype(int)\n",
    "\n",
    "        precision = precision_score(true_binary, predicted_binary, zero_division=0)\n",
    "        recall = recall_score(true_binary, predicted_binary, zero_division=0)\n",
    "        accuracy = (true_binary == predicted_binary).sum() / len(true_labels)\n",
    "        f1 = f1_score(true_binary, predicted_binary, zero_division=0)\n",
    "\n",
    "        metrics_by_class[cls] = {\n",
    "            \"Accuracy\": round(accuracy, 2),\n",
    "            \"Precision\": round(precision, 2),\n",
    "            \"Recall\": round(recall, 2),\n",
    "            \"F1_score\": round(f1, 2),\n",
    "        }\n",
    "\n",
    "    return metrics_by_class"
   ],
   "metadata": {
    "id": "QPSpGNb6a72k",
    "executionInfo": {
     "status": "ok",
     "timestamp": 1737013627153,
     "user_tz": -120,
     "elapsed": 4,
     "user": {
      "displayName": "Maria Raicu",
      "userId": "00664458830913320871"
     }
    }
   },
   "execution_count": 3,
   "outputs": []
  },
  {
   "metadata": {},
   "cell_type": "markdown",
   "source": "### Validation on CARER dataset"
  },
  {
   "cell_type": "code",
   "execution_count": 4,
   "metadata": {
    "colab": {
     "base_uri": "https://localhost:8080/",
     "height": 206
    },
    "id": "eUaUmALmSNEB",
    "executionInfo": {
     "status": "ok",
     "timestamp": 1736970975682,
     "user_tz": -120,
     "elapsed": 1205,
     "user": {
      "displayName": "Maria Raicu",
      "userId": "00664458830913320871"
     }
    },
    "outputId": "ec65ec77-ad33-4366-ded9-5ed713b02de8"
   },
   "outputs": [
    {
     "output_type": "execute_result",
     "data": {
      "text/plain": [
       "                                                text    label\n",
       "0  i feel awful about it too because it s my job ...  Sadness\n",
       "1                              im alone i feel awful  Sadness\n",
       "2  ive probably mentioned this before but i reall...      Joy\n",
       "3           i was feeling a little low few days back  Sadness\n",
       "4  i am one of those people who feels like going ...      Joy"
      ],
      "text/html": [
       "\n",
       "  <div id=\"df-20328889-b896-4d87-b95a-4fcf466fab48\" class=\"colab-df-container\">\n",
       "    <div>\n",
       "<style scoped>\n",
       "    .dataframe tbody tr th:only-of-type {\n",
       "        vertical-align: middle;\n",
       "    }\n",
       "\n",
       "    .dataframe tbody tr th {\n",
       "        vertical-align: top;\n",
       "    }\n",
       "\n",
       "    .dataframe thead th {\n",
       "        text-align: right;\n",
       "    }\n",
       "</style>\n",
       "<table border=\"1\" class=\"dataframe\">\n",
       "  <thead>\n",
       "    <tr style=\"text-align: right;\">\n",
       "      <th></th>\n",
       "      <th>text</th>\n",
       "      <th>label</th>\n",
       "    </tr>\n",
       "  </thead>\n",
       "  <tbody>\n",
       "    <tr>\n",
       "      <th>0</th>\n",
       "      <td>i feel awful about it too because it s my job ...</td>\n",
       "      <td>Sadness</td>\n",
       "    </tr>\n",
       "    <tr>\n",
       "      <th>1</th>\n",
       "      <td>im alone i feel awful</td>\n",
       "      <td>Sadness</td>\n",
       "    </tr>\n",
       "    <tr>\n",
       "      <th>2</th>\n",
       "      <td>ive probably mentioned this before but i reall...</td>\n",
       "      <td>Joy</td>\n",
       "    </tr>\n",
       "    <tr>\n",
       "      <th>3</th>\n",
       "      <td>i was feeling a little low few days back</td>\n",
       "      <td>Sadness</td>\n",
       "    </tr>\n",
       "    <tr>\n",
       "      <th>4</th>\n",
       "      <td>i am one of those people who feels like going ...</td>\n",
       "      <td>Joy</td>\n",
       "    </tr>\n",
       "  </tbody>\n",
       "</table>\n",
       "</div>\n",
       "    <div class=\"colab-df-buttons\">\n",
       "\n",
       "  <div class=\"colab-df-container\">\n",
       "    <button class=\"colab-df-convert\" onclick=\"convertToInteractive('df-20328889-b896-4d87-b95a-4fcf466fab48')\"\n",
       "            title=\"Convert this dataframe to an interactive table.\"\n",
       "            style=\"display:none;\">\n",
       "\n",
       "  <svg xmlns=\"http://www.w3.org/2000/svg\" height=\"24px\" viewBox=\"0 -960 960 960\">\n",
       "    <path d=\"M120-120v-720h720v720H120Zm60-500h600v-160H180v160Zm220 220h160v-160H400v160Zm0 220h160v-160H400v160ZM180-400h160v-160H180v160Zm440 0h160v-160H620v160ZM180-180h160v-160H180v160Zm440 0h160v-160H620v160Z\"/>\n",
       "  </svg>\n",
       "    </button>\n",
       "\n",
       "  <style>\n",
       "    .colab-df-container {\n",
       "      display:flex;\n",
       "      gap: 12px;\n",
       "    }\n",
       "\n",
       "    .colab-df-convert {\n",
       "      background-color: #E8F0FE;\n",
       "      border: none;\n",
       "      border-radius: 50%;\n",
       "      cursor: pointer;\n",
       "      display: none;\n",
       "      fill: #1967D2;\n",
       "      height: 32px;\n",
       "      padding: 0 0 0 0;\n",
       "      width: 32px;\n",
       "    }\n",
       "\n",
       "    .colab-df-convert:hover {\n",
       "      background-color: #E2EBFA;\n",
       "      box-shadow: 0px 1px 2px rgba(60, 64, 67, 0.3), 0px 1px 3px 1px rgba(60, 64, 67, 0.15);\n",
       "      fill: #174EA6;\n",
       "    }\n",
       "\n",
       "    .colab-df-buttons div {\n",
       "      margin-bottom: 4px;\n",
       "    }\n",
       "\n",
       "    [theme=dark] .colab-df-convert {\n",
       "      background-color: #3B4455;\n",
       "      fill: #D2E3FC;\n",
       "    }\n",
       "\n",
       "    [theme=dark] .colab-df-convert:hover {\n",
       "      background-color: #434B5C;\n",
       "      box-shadow: 0px 1px 3px 1px rgba(0, 0, 0, 0.15);\n",
       "      filter: drop-shadow(0px 1px 2px rgba(0, 0, 0, 0.3));\n",
       "      fill: #FFFFFF;\n",
       "    }\n",
       "  </style>\n",
       "\n",
       "    <script>\n",
       "      const buttonEl =\n",
       "        document.querySelector('#df-20328889-b896-4d87-b95a-4fcf466fab48 button.colab-df-convert');\n",
       "      buttonEl.style.display =\n",
       "        google.colab.kernel.accessAllowed ? 'block' : 'none';\n",
       "\n",
       "      async function convertToInteractive(key) {\n",
       "        const element = document.querySelector('#df-20328889-b896-4d87-b95a-4fcf466fab48');\n",
       "        const dataTable =\n",
       "          await google.colab.kernel.invokeFunction('convertToInteractive',\n",
       "                                                    [key], {});\n",
       "        if (!dataTable) return;\n",
       "\n",
       "        const docLinkHtml = 'Like what you see? Visit the ' +\n",
       "          '<a target=\"_blank\" href=https://colab.research.google.com/notebooks/data_table.ipynb>data table notebook</a>'\n",
       "          + ' to learn more about interactive tables.';\n",
       "        element.innerHTML = '';\n",
       "        dataTable['output_type'] = 'display_data';\n",
       "        await google.colab.output.renderOutput(dataTable, element);\n",
       "        const docLink = document.createElement('div');\n",
       "        docLink.innerHTML = docLinkHtml;\n",
       "        element.appendChild(docLink);\n",
       "      }\n",
       "    </script>\n",
       "  </div>\n",
       "\n",
       "\n",
       "<div id=\"df-997da33d-f198-4120-abd8-2e13037d1efd\">\n",
       "  <button class=\"colab-df-quickchart\" onclick=\"quickchart('df-997da33d-f198-4120-abd8-2e13037d1efd')\"\n",
       "            title=\"Suggest charts\"\n",
       "            style=\"display:none;\">\n",
       "\n",
       "<svg xmlns=\"http://www.w3.org/2000/svg\" height=\"24px\"viewBox=\"0 0 24 24\"\n",
       "     width=\"24px\">\n",
       "    <g>\n",
       "        <path d=\"M19 3H5c-1.1 0-2 .9-2 2v14c0 1.1.9 2 2 2h14c1.1 0 2-.9 2-2V5c0-1.1-.9-2-2-2zM9 17H7v-7h2v7zm4 0h-2V7h2v10zm4 0h-2v-4h2v4z\"/>\n",
       "    </g>\n",
       "</svg>\n",
       "  </button>\n",
       "\n",
       "<style>\n",
       "  .colab-df-quickchart {\n",
       "      --bg-color: #E8F0FE;\n",
       "      --fill-color: #1967D2;\n",
       "      --hover-bg-color: #E2EBFA;\n",
       "      --hover-fill-color: #174EA6;\n",
       "      --disabled-fill-color: #AAA;\n",
       "      --disabled-bg-color: #DDD;\n",
       "  }\n",
       "\n",
       "  [theme=dark] .colab-df-quickchart {\n",
       "      --bg-color: #3B4455;\n",
       "      --fill-color: #D2E3FC;\n",
       "      --hover-bg-color: #434B5C;\n",
       "      --hover-fill-color: #FFFFFF;\n",
       "      --disabled-bg-color: #3B4455;\n",
       "      --disabled-fill-color: #666;\n",
       "  }\n",
       "\n",
       "  .colab-df-quickchart {\n",
       "    background-color: var(--bg-color);\n",
       "    border: none;\n",
       "    border-radius: 50%;\n",
       "    cursor: pointer;\n",
       "    display: none;\n",
       "    fill: var(--fill-color);\n",
       "    height: 32px;\n",
       "    padding: 0;\n",
       "    width: 32px;\n",
       "  }\n",
       "\n",
       "  .colab-df-quickchart:hover {\n",
       "    background-color: var(--hover-bg-color);\n",
       "    box-shadow: 0 1px 2px rgba(60, 64, 67, 0.3), 0 1px 3px 1px rgba(60, 64, 67, 0.15);\n",
       "    fill: var(--button-hover-fill-color);\n",
       "  }\n",
       "\n",
       "  .colab-df-quickchart-complete:disabled,\n",
       "  .colab-df-quickchart-complete:disabled:hover {\n",
       "    background-color: var(--disabled-bg-color);\n",
       "    fill: var(--disabled-fill-color);\n",
       "    box-shadow: none;\n",
       "  }\n",
       "\n",
       "  .colab-df-spinner {\n",
       "    border: 2px solid var(--fill-color);\n",
       "    border-color: transparent;\n",
       "    border-bottom-color: var(--fill-color);\n",
       "    animation:\n",
       "      spin 1s steps(1) infinite;\n",
       "  }\n",
       "\n",
       "  @keyframes spin {\n",
       "    0% {\n",
       "      border-color: transparent;\n",
       "      border-bottom-color: var(--fill-color);\n",
       "      border-left-color: var(--fill-color);\n",
       "    }\n",
       "    20% {\n",
       "      border-color: transparent;\n",
       "      border-left-color: var(--fill-color);\n",
       "      border-top-color: var(--fill-color);\n",
       "    }\n",
       "    30% {\n",
       "      border-color: transparent;\n",
       "      border-left-color: var(--fill-color);\n",
       "      border-top-color: var(--fill-color);\n",
       "      border-right-color: var(--fill-color);\n",
       "    }\n",
       "    40% {\n",
       "      border-color: transparent;\n",
       "      border-right-color: var(--fill-color);\n",
       "      border-top-color: var(--fill-color);\n",
       "    }\n",
       "    60% {\n",
       "      border-color: transparent;\n",
       "      border-right-color: var(--fill-color);\n",
       "    }\n",
       "    80% {\n",
       "      border-color: transparent;\n",
       "      border-right-color: var(--fill-color);\n",
       "      border-bottom-color: var(--fill-color);\n",
       "    }\n",
       "    90% {\n",
       "      border-color: transparent;\n",
       "      border-bottom-color: var(--fill-color);\n",
       "    }\n",
       "  }\n",
       "</style>\n",
       "\n",
       "  <script>\n",
       "    async function quickchart(key) {\n",
       "      const quickchartButtonEl =\n",
       "        document.querySelector('#' + key + ' button');\n",
       "      quickchartButtonEl.disabled = true;  // To prevent multiple clicks.\n",
       "      quickchartButtonEl.classList.add('colab-df-spinner');\n",
       "      try {\n",
       "        const charts = await google.colab.kernel.invokeFunction(\n",
       "            'suggestCharts', [key], {});\n",
       "      } catch (error) {\n",
       "        console.error('Error during call to suggestCharts:', error);\n",
       "      }\n",
       "      quickchartButtonEl.classList.remove('colab-df-spinner');\n",
       "      quickchartButtonEl.classList.add('colab-df-quickchart-complete');\n",
       "    }\n",
       "    (() => {\n",
       "      let quickchartButtonEl =\n",
       "        document.querySelector('#df-997da33d-f198-4120-abd8-2e13037d1efd button');\n",
       "      quickchartButtonEl.style.display =\n",
       "        google.colab.kernel.accessAllowed ? 'block' : 'none';\n",
       "    })();\n",
       "  </script>\n",
       "</div>\n",
       "\n",
       "    </div>\n",
       "  </div>\n"
      ],
      "application/vnd.google.colaboratory.intrinsic+json": {
       "type": "dataframe",
       "variable_name": "carer"
      }
     },
     "metadata": {},
     "execution_count": 4
    }
   ],
   "source": [
    "carer = pd.read_csv(\"./data.csv\") \n",
    "emotion_map = {\n",
    "    0: 'Sadness',\n",
    "    1: 'Joy',\n",
    "    2: 'Love',\n",
    "    3: 'Anger',\n",
    "    4: 'Fear',\n",
    "    5: 'Surprise'\n",
    "}\n",
    "carer[\"label\"] = carer[\"label\"].map(emotion_map)\n",
    "carer = carer[carer[\"label\"] != \"Love\"]\n",
    "carer.reset_index(drop=True, inplace=True)\n",
    "carer.head()"
   ]
  },
  {
   "cell_type": "code",
   "source": [
    "carer_output = pd.read_csv(\"./carer.csv\")\n",
    "carer= carer[:10000]"
   ],
   "metadata": {
    "id": "uffr8dgkTibu",
    "executionInfo": {
     "status": "ok",
     "timestamp": 1736970978529,
     "user_tz": -120,
     "elapsed": 242,
     "user": {
      "displayName": "Maria Raicu",
      "userId": "00664458830913320871"
     }
    }
   },
   "execution_count": 5,
   "outputs": []
  },
  {
   "cell_type": "code",
   "source": [
    "results = calculate_metrics(carer, carer_output)\n",
    "print(results)"
   ],
   "metadata": {
    "colab": {
     "base_uri": "https://localhost:8080/"
    },
    "id": "UwctSTeXUd1D",
    "executionInfo": {
     "status": "ok",
     "timestamp": 1736970980669,
     "user_tz": -120,
     "elapsed": 511,
     "user": {
      "displayName": "Maria Raicu",
      "userId": "00664458830913320871"
     }
    },
    "outputId": "78aa8fd6-8429-48b2-bd5f-b7b38fd616b1"
   },
   "execution_count": 6,
   "outputs": [
    {
     "output_type": "stream",
     "name": "stdout",
     "text": [
      "{'Accuracy': 0.47, 'Precision': 0.52, 'Recall': 0.47}\n"
     ]
    },
    {
     "output_type": "stream",
     "name": "stderr",
     "text": [
      "/usr/local/lib/python3.10/dist-packages/sklearn/metrics/_classification.py:1565: UndefinedMetricWarning: Recall is ill-defined and being set to 0.0 in labels with no true samples. Use `zero_division` parameter to control this behavior.\n",
      "  _warn_prf(average, modifier, f\"{metric.capitalize()} is\", len(result))\n"
     ]
    }
   ]
  },
  {
   "cell_type": "code",
   "source": [
    "classwise_metrics = calculate_classwise_metrics(carer, carer_output)\n",
    "print(classwise_metrics)"
   ],
   "metadata": {
    "colab": {
     "base_uri": "https://localhost:8080/"
    },
    "id": "auIzPFHtbC-Z",
    "executionInfo": {
     "status": "ok",
     "timestamp": 1736970983846,
     "user_tz": -120,
     "elapsed": 242,
     "user": {
      "displayName": "Maria Raicu",
      "userId": "00664458830913320871"
     }
    },
    "outputId": "7d5fb2b5-c9cf-4e8c-e9a4-9c991df577e9"
   },
   "execution_count": 7,
   "outputs": [
    {
     "output_type": "stream",
     "name": "stdout",
     "text": [
      "{'Joy': {'Accuracy': 0.73, 'Precision': 0.67, 'Recall': 0.53, 'F1_score': 0.59}, 'Sadness': {'Accuracy': 0.69, 'Precision': 0.53, 'Recall': 0.54, 'F1_score': 0.53}, 'Anger': {'Accuracy': 0.85, 'Precision': 0.42, 'Recall': 0.26, 'F1_score': 0.32}, 'Fear': {'Accuracy': 0.81, 'Precision': 0.32, 'Recall': 0.46, 'F1_score': 0.38}, 'Surprise': {'Accuracy': 0.9, 'Precision': 0.13, 'Recall': 0.26, 'F1_score': 0.18}}\n"
     ]
    }
   ]
  },
  {
   "metadata": {},
   "cell_type": "markdown",
   "source": "### Validation on REN-20k"
  },
  {
   "cell_type": "code",
   "source": [
    "ren_20k_filtered = pd.read_csv(\"./ren_20k_filtered.csv\")\n",
    "ren_20k_filtered.head()"
   ],
   "metadata": {
    "colab": {
     "base_uri": "https://localhost:8080/",
     "height": 206
    },
    "id": "TqCsmaUKZA_w",
    "executionInfo": {
     "status": "ok",
     "timestamp": 1737016930591,
     "user_tz": -120,
     "elapsed": 826,
     "user": {
      "displayName": "Maria Raicu",
      "userId": "00664458830913320871"
     }
    },
    "outputId": "dd84d3d8-1c42-4591-b407-775da1691b81"
   },
   "execution_count": 23,
   "outputs": [
    {
     "output_type": "execute_result",
     "data": {
      "text/plain": [
       "                                                text    label\n",
       "0  A friend sent a YouTube link to the American p...  Sadness\n",
       "1   US authorities are temporarily suspending the...      Joy\n",
       "2  President Rodrigo Duterte said he is ready to ...      Joy\n",
       "3  Ok, beshies. I know theres a whole lot of sht ...    Anger\n",
       "4  The military reported on Saturday, March 4, th...    Anger"
      ],
      "text/html": [
       "\n",
       "  <div id=\"df-36495283-5354-48cf-9508-86f9551b9a40\" class=\"colab-df-container\">\n",
       "    <div>\n",
       "<style scoped>\n",
       "    .dataframe tbody tr th:only-of-type {\n",
       "        vertical-align: middle;\n",
       "    }\n",
       "\n",
       "    .dataframe tbody tr th {\n",
       "        vertical-align: top;\n",
       "    }\n",
       "\n",
       "    .dataframe thead th {\n",
       "        text-align: right;\n",
       "    }\n",
       "</style>\n",
       "<table border=\"1\" class=\"dataframe\">\n",
       "  <thead>\n",
       "    <tr style=\"text-align: right;\">\n",
       "      <th></th>\n",
       "      <th>text</th>\n",
       "      <th>label</th>\n",
       "    </tr>\n",
       "  </thead>\n",
       "  <tbody>\n",
       "    <tr>\n",
       "      <th>0</th>\n",
       "      <td>A friend sent a YouTube link to the American p...</td>\n",
       "      <td>Sadness</td>\n",
       "    </tr>\n",
       "    <tr>\n",
       "      <th>1</th>\n",
       "      <td>US authorities are temporarily suspending the...</td>\n",
       "      <td>Joy</td>\n",
       "    </tr>\n",
       "    <tr>\n",
       "      <th>2</th>\n",
       "      <td>President Rodrigo Duterte said he is ready to ...</td>\n",
       "      <td>Joy</td>\n",
       "    </tr>\n",
       "    <tr>\n",
       "      <th>3</th>\n",
       "      <td>Ok, beshies. I know theres a whole lot of sht ...</td>\n",
       "      <td>Anger</td>\n",
       "    </tr>\n",
       "    <tr>\n",
       "      <th>4</th>\n",
       "      <td>The military reported on Saturday, March 4, th...</td>\n",
       "      <td>Anger</td>\n",
       "    </tr>\n",
       "  </tbody>\n",
       "</table>\n",
       "</div>\n",
       "    <div class=\"colab-df-buttons\">\n",
       "\n",
       "  <div class=\"colab-df-container\">\n",
       "    <button class=\"colab-df-convert\" onclick=\"convertToInteractive('df-36495283-5354-48cf-9508-86f9551b9a40')\"\n",
       "            title=\"Convert this dataframe to an interactive table.\"\n",
       "            style=\"display:none;\">\n",
       "\n",
       "  <svg xmlns=\"http://www.w3.org/2000/svg\" height=\"24px\" viewBox=\"0 -960 960 960\">\n",
       "    <path d=\"M120-120v-720h720v720H120Zm60-500h600v-160H180v160Zm220 220h160v-160H400v160Zm0 220h160v-160H400v160ZM180-400h160v-160H180v160Zm440 0h160v-160H620v160ZM180-180h160v-160H180v160Zm440 0h160v-160H620v160Z\"/>\n",
       "  </svg>\n",
       "    </button>\n",
       "\n",
       "  <style>\n",
       "    .colab-df-container {\n",
       "      display:flex;\n",
       "      gap: 12px;\n",
       "    }\n",
       "\n",
       "    .colab-df-convert {\n",
       "      background-color: #E8F0FE;\n",
       "      border: none;\n",
       "      border-radius: 50%;\n",
       "      cursor: pointer;\n",
       "      display: none;\n",
       "      fill: #1967D2;\n",
       "      height: 32px;\n",
       "      padding: 0 0 0 0;\n",
       "      width: 32px;\n",
       "    }\n",
       "\n",
       "    .colab-df-convert:hover {\n",
       "      background-color: #E2EBFA;\n",
       "      box-shadow: 0px 1px 2px rgba(60, 64, 67, 0.3), 0px 1px 3px 1px rgba(60, 64, 67, 0.15);\n",
       "      fill: #174EA6;\n",
       "    }\n",
       "\n",
       "    .colab-df-buttons div {\n",
       "      margin-bottom: 4px;\n",
       "    }\n",
       "\n",
       "    [theme=dark] .colab-df-convert {\n",
       "      background-color: #3B4455;\n",
       "      fill: #D2E3FC;\n",
       "    }\n",
       "\n",
       "    [theme=dark] .colab-df-convert:hover {\n",
       "      background-color: #434B5C;\n",
       "      box-shadow: 0px 1px 3px 1px rgba(0, 0, 0, 0.15);\n",
       "      filter: drop-shadow(0px 1px 2px rgba(0, 0, 0, 0.3));\n",
       "      fill: #FFFFFF;\n",
       "    }\n",
       "  </style>\n",
       "\n",
       "    <script>\n",
       "      const buttonEl =\n",
       "        document.querySelector('#df-36495283-5354-48cf-9508-86f9551b9a40 button.colab-df-convert');\n",
       "      buttonEl.style.display =\n",
       "        google.colab.kernel.accessAllowed ? 'block' : 'none';\n",
       "\n",
       "      async function convertToInteractive(key) {\n",
       "        const element = document.querySelector('#df-36495283-5354-48cf-9508-86f9551b9a40');\n",
       "        const dataTable =\n",
       "          await google.colab.kernel.invokeFunction('convertToInteractive',\n",
       "                                                    [key], {});\n",
       "        if (!dataTable) return;\n",
       "\n",
       "        const docLinkHtml = 'Like what you see? Visit the ' +\n",
       "          '<a target=\"_blank\" href=https://colab.research.google.com/notebooks/data_table.ipynb>data table notebook</a>'\n",
       "          + ' to learn more about interactive tables.';\n",
       "        element.innerHTML = '';\n",
       "        dataTable['output_type'] = 'display_data';\n",
       "        await google.colab.output.renderOutput(dataTable, element);\n",
       "        const docLink = document.createElement('div');\n",
       "        docLink.innerHTML = docLinkHtml;\n",
       "        element.appendChild(docLink);\n",
       "      }\n",
       "    </script>\n",
       "  </div>\n",
       "\n",
       "\n",
       "<div id=\"df-b543bb21-3243-4399-befe-4b5e300c8594\">\n",
       "  <button class=\"colab-df-quickchart\" onclick=\"quickchart('df-b543bb21-3243-4399-befe-4b5e300c8594')\"\n",
       "            title=\"Suggest charts\"\n",
       "            style=\"display:none;\">\n",
       "\n",
       "<svg xmlns=\"http://www.w3.org/2000/svg\" height=\"24px\"viewBox=\"0 0 24 24\"\n",
       "     width=\"24px\">\n",
       "    <g>\n",
       "        <path d=\"M19 3H5c-1.1 0-2 .9-2 2v14c0 1.1.9 2 2 2h14c1.1 0 2-.9 2-2V5c0-1.1-.9-2-2-2zM9 17H7v-7h2v7zm4 0h-2V7h2v10zm4 0h-2v-4h2v4z\"/>\n",
       "    </g>\n",
       "</svg>\n",
       "  </button>\n",
       "\n",
       "<style>\n",
       "  .colab-df-quickchart {\n",
       "      --bg-color: #E8F0FE;\n",
       "      --fill-color: #1967D2;\n",
       "      --hover-bg-color: #E2EBFA;\n",
       "      --hover-fill-color: #174EA6;\n",
       "      --disabled-fill-color: #AAA;\n",
       "      --disabled-bg-color: #DDD;\n",
       "  }\n",
       "\n",
       "  [theme=dark] .colab-df-quickchart {\n",
       "      --bg-color: #3B4455;\n",
       "      --fill-color: #D2E3FC;\n",
       "      --hover-bg-color: #434B5C;\n",
       "      --hover-fill-color: #FFFFFF;\n",
       "      --disabled-bg-color: #3B4455;\n",
       "      --disabled-fill-color: #666;\n",
       "  }\n",
       "\n",
       "  .colab-df-quickchart {\n",
       "    background-color: var(--bg-color);\n",
       "    border: none;\n",
       "    border-radius: 50%;\n",
       "    cursor: pointer;\n",
       "    display: none;\n",
       "    fill: var(--fill-color);\n",
       "    height: 32px;\n",
       "    padding: 0;\n",
       "    width: 32px;\n",
       "  }\n",
       "\n",
       "  .colab-df-quickchart:hover {\n",
       "    background-color: var(--hover-bg-color);\n",
       "    box-shadow: 0 1px 2px rgba(60, 64, 67, 0.3), 0 1px 3px 1px rgba(60, 64, 67, 0.15);\n",
       "    fill: var(--button-hover-fill-color);\n",
       "  }\n",
       "\n",
       "  .colab-df-quickchart-complete:disabled,\n",
       "  .colab-df-quickchart-complete:disabled:hover {\n",
       "    background-color: var(--disabled-bg-color);\n",
       "    fill: var(--disabled-fill-color);\n",
       "    box-shadow: none;\n",
       "  }\n",
       "\n",
       "  .colab-df-spinner {\n",
       "    border: 2px solid var(--fill-color);\n",
       "    border-color: transparent;\n",
       "    border-bottom-color: var(--fill-color);\n",
       "    animation:\n",
       "      spin 1s steps(1) infinite;\n",
       "  }\n",
       "\n",
       "  @keyframes spin {\n",
       "    0% {\n",
       "      border-color: transparent;\n",
       "      border-bottom-color: var(--fill-color);\n",
       "      border-left-color: var(--fill-color);\n",
       "    }\n",
       "    20% {\n",
       "      border-color: transparent;\n",
       "      border-left-color: var(--fill-color);\n",
       "      border-top-color: var(--fill-color);\n",
       "    }\n",
       "    30% {\n",
       "      border-color: transparent;\n",
       "      border-left-color: var(--fill-color);\n",
       "      border-top-color: var(--fill-color);\n",
       "      border-right-color: var(--fill-color);\n",
       "    }\n",
       "    40% {\n",
       "      border-color: transparent;\n",
       "      border-right-color: var(--fill-color);\n",
       "      border-top-color: var(--fill-color);\n",
       "    }\n",
       "    60% {\n",
       "      border-color: transparent;\n",
       "      border-right-color: var(--fill-color);\n",
       "    }\n",
       "    80% {\n",
       "      border-color: transparent;\n",
       "      border-right-color: var(--fill-color);\n",
       "      border-bottom-color: var(--fill-color);\n",
       "    }\n",
       "    90% {\n",
       "      border-color: transparent;\n",
       "      border-bottom-color: var(--fill-color);\n",
       "    }\n",
       "  }\n",
       "</style>\n",
       "\n",
       "  <script>\n",
       "    async function quickchart(key) {\n",
       "      const quickchartButtonEl =\n",
       "        document.querySelector('#' + key + ' button');\n",
       "      quickchartButtonEl.disabled = true;  // To prevent multiple clicks.\n",
       "      quickchartButtonEl.classList.add('colab-df-spinner');\n",
       "      try {\n",
       "        const charts = await google.colab.kernel.invokeFunction(\n",
       "            'suggestCharts', [key], {});\n",
       "      } catch (error) {\n",
       "        console.error('Error during call to suggestCharts:', error);\n",
       "      }\n",
       "      quickchartButtonEl.classList.remove('colab-df-spinner');\n",
       "      quickchartButtonEl.classList.add('colab-df-quickchart-complete');\n",
       "    }\n",
       "    (() => {\n",
       "      let quickchartButtonEl =\n",
       "        document.querySelector('#df-b543bb21-3243-4399-befe-4b5e300c8594 button');\n",
       "      quickchartButtonEl.style.display =\n",
       "        google.colab.kernel.accessAllowed ? 'block' : 'none';\n",
       "    })();\n",
       "  </script>\n",
       "</div>\n",
       "\n",
       "    </div>\n",
       "  </div>\n"
      ],
      "application/vnd.google.colaboratory.intrinsic+json": {
       "type": "dataframe",
       "variable_name": "ren_20k_filtered",
       "summary": "{\n  \"name\": \"ren_20k_filtered\",\n  \"rows\": 10205,\n  \"fields\": [\n    {\n      \"column\": \"text\",\n      \"properties\": {\n        \"dtype\": \"string\",\n        \"num_unique_values\": 10178,\n        \"samples\": [\n          \"A North Korean submarine is missing, reports said Saturday, March 12, as the reclusive state issued a fresh threat of retaliation against US and South Korean forces involved in joint military drills.The unknown class of vessel had been reportedly operating off the North Korean coast earlier in the week when it disappeared.A South Korean defense ministry told Agence France-Presse Seoul was investigating the reports. Pentagon officials declined to comment on the matter.The US military had been observing the submarine off the North's eastern coast, CNN said, citing three US officials familiar with the incident.American spy satellites, aircraft and ships have been watching as the North Korean navy searched for the missing sub, the report added.The US is unsure if the missing vessel is adrift or whether it has sunk, CNN reported, but officials believe it suffered a failure during an exercise.The US Naval Institute (USNI) News said the submarine was presumed sunk.The speculation is that it sank, an unidentified US official was quoted as telling the USNI News.The North Koreans have not made an attempt to indicate there is something wrong or that they require help or some type of assistance.The incident comes as tensions were further heightened on the Korean peninsular by a fresh threat from Pyongyang.The official KCNA news agency, citing a statement from military chiefs, warned of a pre-emptive retaliatory strike at the enemy groups involved in the joint US-South Korean drill.Pyongyang added it planned to respond to the drills with an operation to liberate the whole of South Korea including Seoul with an ultra-precision blitzkrieg.Responding to the statement, South Korea's defence ministry urged Pyongyang to stop making threats or further provocations, according to Yonhap news agency.North Korea's navy operates a fleet of some 70 submarines, most of them being rusting diesel submarines that are capable of little more than coastal defence and limited offensive capabilities.But the old, low-tech submarines still pose substantial threats to South Korean vessels.In 2010, a South Korean corvette was reportedly torpedoed by a North Korean submarine near their sea border.In August last year, Seoul said said 70 of the North's total submarine fleet  or around 50 vessels  had left their bases and disappeared from South's military radar, sparking alarm.\",\n          \"Despite a solid attempt, BTS fans were unable to beat the world record for most used Twitter hashtag in 24 hours.According to the Guinness World Records official Twitter account on Thursday, May 17, the hashtag iVoteBTSBBMAs garnered 21.9 million uses, including retweets and quote tweets.The hashtag was used for the Billboard Music Awards (BBMAs) 2018, where the popular K-pop band was nominated for the Top Social Artist award, along with Justin Bieber, Ariana Grande, Demi Lovato, and Shawn Mendes.Fans were allowed to vote for their Top Social Artist winner through Twitter, where 100 total Tweet votes per award per day was allowed. Each person could vote through a direct tweet, a retweet, or by sharing a pre-populated tweet from the BBMAs voting website.The BBMAs will be broadcast live on May 20 on NBC in the US, and voting for winners will run through May 14 to May 20.According to Twitter user BTSBillboard, however, the Guinness World Records counted tweets 12 hours before the voting period on May 14 started, which affected the count.If its any consolation to Filipino fans, its a Pinoy hashtag that holds the record for most used Twitter hashtag in 24 hours. ALDUBEBTAMANGPANAHON, which was used at the height of the AlDub (Alden Richards and Maine Mendoza aka Yaya Dub) craze, beat the record with 40,706,392 tweets in 2015. \",\n          \" In 2014, coconut scale insect infestation became a huge problem among coconut farmers in Calabarzon (Region 4A). Colloquially known as cocolisap or aspidiotus detructor, scientifically, the insect is an ordinary sight for those in the coconut business. In great numbers, however, they could prove disastrous. Losses of up to P186 million a year were estimated then.Since then, farmers and researchers alike have been hard at work in counteracting the problem.This motivated a group of students from the Polytechnic University of the Philippines (PUP) to create an app that combines data science, hardware, and artificial intelligence (AI) to detect early signs of coconut tree sickness. With AI, Kreate wants to build a solution that can warn and notify farmers of the early stages of coconut tree sickness so they can prevent its further spread.The app and its various hardware components are called AgriCo. It won first place in the programming contest Hackzilla in Manila 2 by freelance jobs listing site Freelancer.ph, netting the team P50,000. (Read An app called 'Fresent' wants to check attendance with a single photo)How does it work?There are numerous signs that signal that a coconut tree might be sick, said Team Kreate  signs that they are attempting to detect with a system making use of various devices.Falling leaves is one of the early signs of sickness often observed. To detect this, they attached infrared sensors to a band that is then wrapped around the branch of a tree  similar to a belt. Being sensitive to motion, these sensors are capable of picking up the movement of the falling leaves in its surroundings and measuring their distance from the tree.This is how the band looks likeSince cocolisap have been known to flourish in the dry season, the group found it useful to have sensors that measure humidity and temperature around a specific area by the tree. These temperature-measuring sensors are placed by the trunk of the coconut tree on the ground.Other signs of sickness like stem bleeding and the yellowing of leaves are not as conspicuous when observing the coconut tree from ground level. This is where the drone comes in. Equipped with an AI-aided camera, their system hopes to recognize the visual signs and spot the symptoms seen in the upper bark of coconut trees. The team's AI is being designed with a deep learning system in mind so that it can continually learn from the collected data.All the data that the various devices gather are then sent via the internet to a web app that's viewable through a web browser. The drone provides a live video feed of everything it picks up. Data from the sensors, on the other hand, are presented in chart and graph form generated by the app. Overall, the program appears to be a way to survey the spread of the insect in a fast, modern way. The data that the system is able to collect could also be utilized for future studies regarding the problem.Early phase of developmentAs of writing, the group has yet to do a test with an actual coconut tree. Mostly working with simulated data, they are now looking to approach land owners and coconut farmers in order to perform actual tests.All the tests with the drone were also operated manually. Their goal is to have it fly autonomously and work seamlessly with the app as they move forward with improvements. They also hope to better understand and determine the needs of land owners and other potential clients for their app.Being that there is a decent amount of hardware required for the app, the group is also in search for investors to begin the manufacturing process for the devices.Team Kreate said they hope their app can significantly help the Philippines coconut industry. \"\n        ],\n        \"semantic_type\": \"\",\n        \"description\": \"\"\n      }\n    },\n    {\n      \"column\": \"label\",\n      \"properties\": {\n        \"dtype\": \"category\",\n        \"num_unique_values\": 5,\n        \"samples\": [\n          \"Joy\",\n          \"Fear\",\n          \"Anger\"\n        ],\n        \"semantic_type\": \"\",\n        \"description\": \"\"\n      }\n    }\n  ]\n}"
      }
     },
     "metadata": {},
     "execution_count": 23
    }
   ]
  },
  {
   "cell_type": "code",
   "source": [
    "ren_output = pd.read_csv(\"./ren_0_5100.csv\")\n",
    "ren_20k_filtered = ren_20k_filtered[:5100]"
   ],
   "metadata": {
    "id": "dLWHrjtBZfv6",
    "executionInfo": {
     "status": "ok",
     "timestamp": 1737016992779,
     "user_tz": -120,
     "elapsed": 263,
     "user": {
      "displayName": "Maria Raicu",
      "userId": "00664458830913320871"
     }
    }
   },
   "execution_count": 25,
   "outputs": []
  },
  {
   "cell_type": "code",
   "source": [
    "results = calculate_metrics(ren_20k_filtered, ren_output)\n",
    "print(results)"
   ],
   "metadata": {
    "colab": {
     "base_uri": "https://localhost:8080/"
    },
    "id": "Tr0qh53NZfgI",
    "executionInfo": {
     "status": "ok",
     "timestamp": 1737017000615,
     "user_tz": -120,
     "elapsed": 301,
     "user": {
      "displayName": "Maria Raicu",
      "userId": "00664458830913320871"
     }
    },
    "outputId": "8dd8d46a-283b-42f2-b510-6cf7741ae727"
   },
   "execution_count": 26,
   "outputs": [
    {
     "output_type": "stream",
     "name": "stdout",
     "text": [
      "{'Accuracy': 0.44, 'Precision': 0.59, 'Recall': 0.44}\n"
     ]
    },
    {
     "output_type": "stream",
     "name": "stderr",
     "text": [
      "/usr/local/lib/python3.10/dist-packages/sklearn/metrics/_classification.py:1565: UndefinedMetricWarning: Recall is ill-defined and being set to 0.0 in labels with no true samples. Use `zero_division` parameter to control this behavior.\n",
      "  _warn_prf(average, modifier, f\"{metric.capitalize()} is\", len(result))\n"
     ]
    }
   ]
  },
  {
   "cell_type": "code",
   "source": [
    "classwise_metrics = calculate_classwise_metrics(ren_20k_filtered, ren_output)\n",
    "print(classwise_metrics)"
   ],
   "metadata": {
    "colab": {
     "base_uri": "https://localhost:8080/"
    },
    "id": "ERaeCaomZwB7",
    "executionInfo": {
     "status": "ok",
     "timestamp": 1737017002206,
     "user_tz": -120,
     "elapsed": 223,
     "user": {
      "displayName": "Maria Raicu",
      "userId": "00664458830913320871"
     }
    },
    "outputId": "faeeb176-e607-4758-f8e3-2f226ae2c619"
   },
   "execution_count": 27,
   "outputs": [
    {
     "output_type": "stream",
     "name": "stdout",
     "text": [
      "{'Joy': {'Accuracy': 0.66, 'Precision': 0.8, 'Recall': 0.52, 'F1_score': 0.63}, 'Sadness': {'Accuracy': 0.81, 'Precision': 0.33, 'Recall': 0.49, 'F1_score': 0.39}, 'Anger': {'Accuracy': 0.76, 'Precision': 0.45, 'Recall': 0.33, 'F1_score': 0.38}, 'Fear': {'Accuracy': 0.89, 'Precision': 0.11, 'Recall': 0.48, 'F1_score': 0.19}, 'Surprise': {'Accuracy': 0.83, 'Precision': 0.08, 'Recall': 0.12, 'F1_score': 0.1}}\n"
     ]
    }
   ]
  }
 ]
}
